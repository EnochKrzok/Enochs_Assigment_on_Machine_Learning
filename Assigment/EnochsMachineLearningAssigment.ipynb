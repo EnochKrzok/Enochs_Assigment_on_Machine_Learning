{
 "cells": [
  {
   "attachments": {},
   "cell_type": "markdown",
   "metadata": {},
   "source": [
    "# Enochs assigment on machine learning (CO538)\n",
    "#### Name:Enoch Jozue Krzok\n",
    "#### ID:22140200\n",
    "\n",
    "1.Look at the big picture. (do you understand the dataset?)/\n",
    "\n",
    "2.Get the data. (import the dataset, either locally or from an online source such as Kaggle)/\n",
    "\n",
    "3.Discover and visualize the data to gain insights. (use matplotlib ‘plots’ and pandas’ descriptive statistics)/\n",
    "\n",
    "4.Prepare the data for Machine Learning algorithms (cleaning; missing data, illogical values etc)/\n",
    "\n",
    "5.Select (at least two relevant) models and train them. (Will you use regressors or classifiers? K-NN, K-means, Decision Trees, Random Forests etc? Remember to ‘split’ the dataset into training and test data (and possibly a validation set as well, if required))./\n",
    "\n",
    "6.Fine-tune your model(s). (visualise the results of the training and see if the parameters need ‘tweaking’)./\n",
    "\n",
    "7.Run model(s) on Test sets. (Now run the models on ‘test’ dataset to ensure that the results are the same as the ‘train’ results.)./\n",
    "\n",
    "8.Instead of ‘deploying your system into the real-world’, provide a short evaluation (max. 500 words in a markdown cell) of the models which considers their performance against the goal/target/objective of the scenario. You may also want to consider future aspects of maintenance and scalability if this model was to be ‘deployed in the real world’. \n",
    "\n",
    " "
   ]
  },
  {
   "attachments": {},
   "cell_type": "markdown",
   "metadata": {},
   "source": [
    "# Setup"
   ]
  },
  {
   "cell_type": "code",
   "execution_count": 366,
   "metadata": {},
   "outputs": [],
   "source": [
    "# Python ≥3.8 is required\n",
    "import sys\n",
    "assert sys.version_info >= (3, 8)\n",
    "\n",
    "# Scikit-Learn ≥1.0 is required\n",
    "import sklearn\n",
    "assert sklearn.__version__ >= \"1.0\"\n",
    "\n",
    "# Common imports\n",
    "import numpy as np\n",
    "import pandas as pd\n",
    "import os\n",
    "\n",
    "# to make this notebook's output stable across runs\n",
    "np.random.seed(42)\n",
    "\n",
    "# To plot pretty figures\n",
    "%matplotlib inline\n",
    "import matplotlib as mpl\n",
    "import matplotlib.pyplot as plt\n",
    "mpl.rc('axes', labelsize=14)\n",
    "mpl.rc('xtick', labelsize=12)\n",
    "mpl.rc('ytick', labelsize=12)\n",
    "\n",
    "# Precision options\n",
    "np.set_printoptions(precision=2)\n",
    "pd.options.display.float_format = '{:.3f}'.format\n",
    "\n",
    "# Ignore useless warnings (see SciPy issue #5998)\n",
    "import warnings\n",
    "warnings.filterwarnings(action=\"ignore\", message=\"^internal gelsd\")"
   ]
  },
  {
   "attachments": {},
   "cell_type": "markdown",
   "metadata": {},
   "source": [
    "# 1.Import Data"
   ]
  },
  {
   "cell_type": "code",
   "execution_count": 367,
   "metadata": {},
   "outputs": [
    {
     "name": "stdout",
     "output_type": "stream",
     "text": [
      "File path: c:\\Users\\ejink\\OneDrive\\Desktop\\uni\\Y2\\S2-Thu-pyth\\Assigment\\AI_index_db.csv\n"
     ]
    }
   ],
   "source": [
    "filepath = os.path.abspath(os.path.join('..', 'Assigment' , 'AI_index_db.csv'))\n",
    "print('File path: {}'.format(filepath))\n",
    "ai = pd.read_csv(filepath)"
   ]
  },
  {
   "attachments": {},
   "cell_type": "markdown",
   "metadata": {},
   "source": [
    "# 2.Visuaslization of the data"
   ]
  },
  {
   "attachments": {},
   "cell_type": "markdown",
   "metadata": {},
   "source": [
    "The Dataset is made up of 61 countries and each country has 8 float type data and excluding country 4 object type data as shown below. "
   ]
  },
  {
   "attachments": {},
   "cell_type": "markdown",
   "metadata": {},
   "source": [
    "As the sample shows the countries have their name then the Talent, Infrastructure, Operating Environment, Research, Development, Government Strategy and Commercial (each has a number between 0 and 100 (100 is given to the country that is best in that aspect and inversely 0 to the country that is the worst in that aspect)). All of those make up the total score (again 100 for the best country and 0 to the worst). Then we have the region the country is in. Then the cluster is saying what is happing to the AI industry in the country. The income group is how well the people are getting paid. and the political regime is how the politics are done in that country. "
   ]
  },
  {
   "cell_type": "code",
   "execution_count": 368,
   "metadata": {},
   "outputs": [
    {
     "data": {
      "text/html": [
       "<div>\n",
       "<style scoped>\n",
       "    .dataframe tbody tr th:only-of-type {\n",
       "        vertical-align: middle;\n",
       "    }\n",
       "\n",
       "    .dataframe tbody tr th {\n",
       "        vertical-align: top;\n",
       "    }\n",
       "\n",
       "    .dataframe thead th {\n",
       "        text-align: right;\n",
       "    }\n",
       "</style>\n",
       "<table border=\"1\" class=\"dataframe\">\n",
       "  <thead>\n",
       "    <tr style=\"text-align: right;\">\n",
       "      <th></th>\n",
       "      <th>Country</th>\n",
       "      <th>Talent</th>\n",
       "      <th>Infrastructure</th>\n",
       "      <th>Operating_Environment</th>\n",
       "      <th>Research</th>\n",
       "      <th>Development</th>\n",
       "      <th>Government_Strategy</th>\n",
       "      <th>Commercial</th>\n",
       "      <th>Total_score</th>\n",
       "      <th>Region</th>\n",
       "      <th>Cluster</th>\n",
       "      <th>Income_group</th>\n",
       "      <th>Political_regime</th>\n",
       "    </tr>\n",
       "  </thead>\n",
       "  <tbody>\n",
       "    <tr>\n",
       "      <th>0</th>\n",
       "      <td>United States of America</td>\n",
       "      <td>100.000</td>\n",
       "      <td>94.020</td>\n",
       "      <td>64.560</td>\n",
       "      <td>100.000</td>\n",
       "      <td>100.000</td>\n",
       "      <td>77.390</td>\n",
       "      <td>100.000</td>\n",
       "      <td>100.000</td>\n",
       "      <td>Americas</td>\n",
       "      <td>Power players</td>\n",
       "      <td>High</td>\n",
       "      <td>Liberal democracy</td>\n",
       "    </tr>\n",
       "    <tr>\n",
       "      <th>1</th>\n",
       "      <td>China</td>\n",
       "      <td>16.510</td>\n",
       "      <td>100.000</td>\n",
       "      <td>91.570</td>\n",
       "      <td>71.420</td>\n",
       "      <td>79.970</td>\n",
       "      <td>94.870</td>\n",
       "      <td>44.020</td>\n",
       "      <td>62.920</td>\n",
       "      <td>Asia-Pacific</td>\n",
       "      <td>Power players</td>\n",
       "      <td>Upper middle</td>\n",
       "      <td>Closed autocracy</td>\n",
       "    </tr>\n",
       "    <tr>\n",
       "      <th>2</th>\n",
       "      <td>United Kingdom</td>\n",
       "      <td>39.650</td>\n",
       "      <td>71.430</td>\n",
       "      <td>74.650</td>\n",
       "      <td>36.500</td>\n",
       "      <td>25.030</td>\n",
       "      <td>82.820</td>\n",
       "      <td>18.910</td>\n",
       "      <td>40.930</td>\n",
       "      <td>Europe</td>\n",
       "      <td>Traditional champions</td>\n",
       "      <td>High</td>\n",
       "      <td>Liberal democracy</td>\n",
       "    </tr>\n",
       "    <tr>\n",
       "      <th>3</th>\n",
       "      <td>Canada</td>\n",
       "      <td>31.280</td>\n",
       "      <td>77.050</td>\n",
       "      <td>93.940</td>\n",
       "      <td>30.670</td>\n",
       "      <td>25.780</td>\n",
       "      <td>100.000</td>\n",
       "      <td>14.880</td>\n",
       "      <td>40.190</td>\n",
       "      <td>Americas</td>\n",
       "      <td>Traditional champions</td>\n",
       "      <td>High</td>\n",
       "      <td>Liberal democracy</td>\n",
       "    </tr>\n",
       "    <tr>\n",
       "      <th>4</th>\n",
       "      <td>Israel</td>\n",
       "      <td>35.760</td>\n",
       "      <td>67.580</td>\n",
       "      <td>82.440</td>\n",
       "      <td>32.630</td>\n",
       "      <td>27.960</td>\n",
       "      <td>43.910</td>\n",
       "      <td>27.330</td>\n",
       "      <td>39.890</td>\n",
       "      <td>Middle East</td>\n",
       "      <td>Rising stars</td>\n",
       "      <td>High</td>\n",
       "      <td>Liberal democracy</td>\n",
       "    </tr>\n",
       "    <tr>\n",
       "      <th>...</th>\n",
       "      <td>...</td>\n",
       "      <td>...</td>\n",
       "      <td>...</td>\n",
       "      <td>...</td>\n",
       "      <td>...</td>\n",
       "      <td>...</td>\n",
       "      <td>...</td>\n",
       "      <td>...</td>\n",
       "      <td>...</td>\n",
       "      <td>...</td>\n",
       "      <td>...</td>\n",
       "      <td>...</td>\n",
       "      <td>...</td>\n",
       "    </tr>\n",
       "    <tr>\n",
       "      <th>57</th>\n",
       "      <td>Sri Lanka</td>\n",
       "      <td>6.270</td>\n",
       "      <td>34.640</td>\n",
       "      <td>35.790</td>\n",
       "      <td>0.120</td>\n",
       "      <td>0.950</td>\n",
       "      <td>35.570</td>\n",
       "      <td>0.090</td>\n",
       "      <td>6.620</td>\n",
       "      <td>Asia-Pacific</td>\n",
       "      <td>Nascent</td>\n",
       "      <td>Lower middle</td>\n",
       "      <td>Electoral democracy</td>\n",
       "    </tr>\n",
       "    <tr>\n",
       "      <th>58</th>\n",
       "      <td>Egypt</td>\n",
       "      <td>1.110</td>\n",
       "      <td>38.840</td>\n",
       "      <td>0.000</td>\n",
       "      <td>2.080</td>\n",
       "      <td>1.540</td>\n",
       "      <td>68.720</td>\n",
       "      <td>0.310</td>\n",
       "      <td>4.830</td>\n",
       "      <td>Middle East</td>\n",
       "      <td>Nascent</td>\n",
       "      <td>Lower middle</td>\n",
       "      <td>Electoral autocracy</td>\n",
       "    </tr>\n",
       "    <tr>\n",
       "      <th>59</th>\n",
       "      <td>Kenya</td>\n",
       "      <td>0.750</td>\n",
       "      <td>14.110</td>\n",
       "      <td>29.840</td>\n",
       "      <td>0.070</td>\n",
       "      <td>12.150</td>\n",
       "      <td>7.750</td>\n",
       "      <td>0.310</td>\n",
       "      <td>2.300</td>\n",
       "      <td>Africa</td>\n",
       "      <td>Nascent</td>\n",
       "      <td>Lower middle</td>\n",
       "      <td>Electoral autocracy</td>\n",
       "    </tr>\n",
       "    <tr>\n",
       "      <th>60</th>\n",
       "      <td>Nigeria</td>\n",
       "      <td>2.740</td>\n",
       "      <td>0.000</td>\n",
       "      <td>50.100</td>\n",
       "      <td>0.450</td>\n",
       "      <td>2.060</td>\n",
       "      <td>7.750</td>\n",
       "      <td>0.330</td>\n",
       "      <td>1.380</td>\n",
       "      <td>Africa</td>\n",
       "      <td>Nascent</td>\n",
       "      <td>Lower middle</td>\n",
       "      <td>Electoral autocracy</td>\n",
       "    </tr>\n",
       "    <tr>\n",
       "      <th>61</th>\n",
       "      <td>Pakistan</td>\n",
       "      <td>8.000</td>\n",
       "      <td>2.430</td>\n",
       "      <td>12.480</td>\n",
       "      <td>2.170</td>\n",
       "      <td>1.090</td>\n",
       "      <td>13.920</td>\n",
       "      <td>0.270</td>\n",
       "      <td>0.000</td>\n",
       "      <td>Asia-Pacific</td>\n",
       "      <td>Nascent</td>\n",
       "      <td>Lower middle</td>\n",
       "      <td>Electoral autocracy</td>\n",
       "    </tr>\n",
       "  </tbody>\n",
       "</table>\n",
       "<p>62 rows × 13 columns</p>\n",
       "</div>"
      ],
      "text/plain": [
       "                     Country  Talent  Infrastructure  Operating_Environment  \\\n",
       "0   United States of America 100.000          94.020                 64.560   \n",
       "1                      China  16.510         100.000                 91.570   \n",
       "2             United Kingdom  39.650          71.430                 74.650   \n",
       "3                     Canada  31.280          77.050                 93.940   \n",
       "4                     Israel  35.760          67.580                 82.440   \n",
       "..                       ...     ...             ...                    ...   \n",
       "57                 Sri Lanka   6.270          34.640                 35.790   \n",
       "58                     Egypt   1.110          38.840                  0.000   \n",
       "59                     Kenya   0.750          14.110                 29.840   \n",
       "60                   Nigeria   2.740           0.000                 50.100   \n",
       "61                  Pakistan   8.000           2.430                 12.480   \n",
       "\n",
       "    Research  Development  Government_Strategy  Commercial  Total_score  \\\n",
       "0    100.000      100.000               77.390     100.000      100.000   \n",
       "1     71.420       79.970               94.870      44.020       62.920   \n",
       "2     36.500       25.030               82.820      18.910       40.930   \n",
       "3     30.670       25.780              100.000      14.880       40.190   \n",
       "4     32.630       27.960               43.910      27.330       39.890   \n",
       "..       ...          ...                  ...         ...          ...   \n",
       "57     0.120        0.950               35.570       0.090        6.620   \n",
       "58     2.080        1.540               68.720       0.310        4.830   \n",
       "59     0.070       12.150                7.750       0.310        2.300   \n",
       "60     0.450        2.060                7.750       0.330        1.380   \n",
       "61     2.170        1.090               13.920       0.270        0.000   \n",
       "\n",
       "          Region                Cluster  Income_group     Political_regime  \n",
       "0       Americas          Power players          High    Liberal democracy  \n",
       "1   Asia-Pacific          Power players  Upper middle     Closed autocracy  \n",
       "2         Europe  Traditional champions          High    Liberal democracy  \n",
       "3       Americas  Traditional champions          High    Liberal democracy  \n",
       "4    Middle East           Rising stars          High    Liberal democracy  \n",
       "..           ...                    ...           ...                  ...  \n",
       "57  Asia-Pacific                Nascent  Lower middle  Electoral democracy  \n",
       "58   Middle East                Nascent  Lower middle  Electoral autocracy  \n",
       "59        Africa                Nascent  Lower middle  Electoral autocracy  \n",
       "60        Africa                Nascent  Lower middle  Electoral autocracy  \n",
       "61  Asia-Pacific                Nascent  Lower middle  Electoral autocracy  \n",
       "\n",
       "[62 rows x 13 columns]"
      ]
     },
     "execution_count": 368,
     "metadata": {},
     "output_type": "execute_result"
    }
   ],
   "source": [
    "ai"
   ]
  },
  {
   "cell_type": "code",
   "execution_count": 369,
   "metadata": {},
   "outputs": [
    {
     "name": "stdout",
     "output_type": "stream",
     "text": [
      "<class 'pandas.core.frame.DataFrame'>\n",
      "RangeIndex: 62 entries, 0 to 61\n",
      "Data columns (total 13 columns):\n",
      " #   Column                 Non-Null Count  Dtype  \n",
      "---  ------                 --------------  -----  \n",
      " 0   Country                62 non-null     object \n",
      " 1   Talent                 62 non-null     float64\n",
      " 2   Infrastructure         62 non-null     float64\n",
      " 3   Operating_Environment  62 non-null     float64\n",
      " 4   Research               62 non-null     float64\n",
      " 5   Development            62 non-null     float64\n",
      " 6   Government_Strategy    62 non-null     float64\n",
      " 7   Commercial             62 non-null     float64\n",
      " 8   Total_score            62 non-null     float64\n",
      " 9   Region                 62 non-null     object \n",
      " 10  Cluster                62 non-null     object \n",
      " 11  Income_group           62 non-null     object \n",
      " 12  Political_regime       62 non-null     object \n",
      "dtypes: float64(8), object(5)\n",
      "memory usage: 6.4+ KB\n"
     ]
    }
   ],
   "source": [
    "ai.info()"
   ]
  },
  {
   "attachments": {},
   "cell_type": "markdown",
   "metadata": {},
   "source": [
    "Some more insight on the data"
   ]
  },
  {
   "cell_type": "code",
   "execution_count": 370,
   "metadata": {},
   "outputs": [
    {
     "data": {
      "text/html": [
       "<div>\n",
       "<style scoped>\n",
       "    .dataframe tbody tr th:only-of-type {\n",
       "        vertical-align: middle;\n",
       "    }\n",
       "\n",
       "    .dataframe tbody tr th {\n",
       "        vertical-align: top;\n",
       "    }\n",
       "\n",
       "    .dataframe thead th {\n",
       "        text-align: right;\n",
       "    }\n",
       "</style>\n",
       "<table border=\"1\" class=\"dataframe\">\n",
       "  <thead>\n",
       "    <tr style=\"text-align: right;\">\n",
       "      <th></th>\n",
       "      <th>Talent</th>\n",
       "      <th>Infrastructure</th>\n",
       "      <th>Operating_Environment</th>\n",
       "      <th>Research</th>\n",
       "      <th>Development</th>\n",
       "      <th>Government_Strategy</th>\n",
       "      <th>Commercial</th>\n",
       "      <th>Total_score</th>\n",
       "    </tr>\n",
       "  </thead>\n",
       "  <tbody>\n",
       "    <tr>\n",
       "      <th>count</th>\n",
       "      <td>62.000</td>\n",
       "      <td>62.000</td>\n",
       "      <td>62.000</td>\n",
       "      <td>62.000</td>\n",
       "      <td>62.000</td>\n",
       "      <td>62.000</td>\n",
       "      <td>62.000</td>\n",
       "      <td>62.000</td>\n",
       "    </tr>\n",
       "    <tr>\n",
       "      <th>mean</th>\n",
       "      <td>16.803</td>\n",
       "      <td>63.504</td>\n",
       "      <td>66.925</td>\n",
       "      <td>16.610</td>\n",
       "      <td>14.825</td>\n",
       "      <td>57.866</td>\n",
       "      <td>6.172</td>\n",
       "      <td>23.915</td>\n",
       "    </tr>\n",
       "    <tr>\n",
       "      <th>std</th>\n",
       "      <td>15.215</td>\n",
       "      <td>20.218</td>\n",
       "      <td>20.000</td>\n",
       "      <td>17.414</td>\n",
       "      <td>19.419</td>\n",
       "      <td>26.252</td>\n",
       "      <td>14.030</td>\n",
       "      <td>15.124</td>\n",
       "    </tr>\n",
       "    <tr>\n",
       "      <th>min</th>\n",
       "      <td>0.000</td>\n",
       "      <td>0.000</td>\n",
       "      <td>0.000</td>\n",
       "      <td>0.000</td>\n",
       "      <td>0.000</td>\n",
       "      <td>0.000</td>\n",
       "      <td>0.000</td>\n",
       "      <td>0.000</td>\n",
       "    </tr>\n",
       "    <tr>\n",
       "      <th>25%</th>\n",
       "      <td>7.365</td>\n",
       "      <td>55.858</td>\n",
       "      <td>58.108</td>\n",
       "      <td>3.033</td>\n",
       "      <td>1.203</td>\n",
       "      <td>41.030</td>\n",
       "      <td>0.698</td>\n",
       "      <td>14.805</td>\n",
       "    </tr>\n",
       "    <tr>\n",
       "      <th>50%</th>\n",
       "      <td>13.445</td>\n",
       "      <td>65.230</td>\n",
       "      <td>69.505</td>\n",
       "      <td>12.930</td>\n",
       "      <td>9.005</td>\n",
       "      <td>63.930</td>\n",
       "      <td>2.585</td>\n",
       "      <td>23.220</td>\n",
       "    </tr>\n",
       "    <tr>\n",
       "      <th>75%</th>\n",
       "      <td>24.567</td>\n",
       "      <td>75.948</td>\n",
       "      <td>80.500</td>\n",
       "      <td>25.413</td>\n",
       "      <td>19.980</td>\n",
       "      <td>77.953</td>\n",
       "      <td>5.307</td>\n",
       "      <td>30.488</td>\n",
       "    </tr>\n",
       "    <tr>\n",
       "      <th>max</th>\n",
       "      <td>100.000</td>\n",
       "      <td>100.000</td>\n",
       "      <td>100.000</td>\n",
       "      <td>100.000</td>\n",
       "      <td>100.000</td>\n",
       "      <td>100.000</td>\n",
       "      <td>100.000</td>\n",
       "      <td>100.000</td>\n",
       "    </tr>\n",
       "  </tbody>\n",
       "</table>\n",
       "</div>"
      ],
      "text/plain": [
       "       Talent  Infrastructure  Operating_Environment  Research  Development  \\\n",
       "count  62.000          62.000                 62.000    62.000       62.000   \n",
       "mean   16.803          63.504                 66.925    16.610       14.825   \n",
       "std    15.215          20.218                 20.000    17.414       19.419   \n",
       "min     0.000           0.000                  0.000     0.000        0.000   \n",
       "25%     7.365          55.858                 58.108     3.033        1.203   \n",
       "50%    13.445          65.230                 69.505    12.930        9.005   \n",
       "75%    24.567          75.948                 80.500    25.413       19.980   \n",
       "max   100.000         100.000                100.000   100.000      100.000   \n",
       "\n",
       "       Government_Strategy  Commercial  Total_score  \n",
       "count               62.000      62.000       62.000  \n",
       "mean                57.866       6.172       23.915  \n",
       "std                 26.252      14.030       15.124  \n",
       "min                  0.000       0.000        0.000  \n",
       "25%                 41.030       0.698       14.805  \n",
       "50%                 63.930       2.585       23.220  \n",
       "75%                 77.953       5.307       30.488  \n",
       "max                100.000     100.000      100.000  "
      ]
     },
     "execution_count": 370,
     "metadata": {},
     "output_type": "execute_result"
    }
   ],
   "source": [
    "ai.describe()"
   ]
  },
  {
   "cell_type": "code",
   "execution_count": 371,
   "metadata": {},
   "outputs": [
    {
     "data": {
      "image/png": "[encoded data removed]",
      "text/plain": [
       "<Figure size 1296x1296 with 9 Axes>"
      ]
     },
     "metadata": {
      "needs_background": "light"
     },
     "output_type": "display_data"
    }
   ],
   "source": [
    "p = ai[\n",
    "    ['Talent', 'Infrastructure', 'Operating_Environment', 'Research', 'Development', 'Government_Strategy', 'Commercial', 'Total_score']\n",
    "].plot.box(subplots=True, layout=(3, 3), figsize=(18,18))"
   ]
  },
  {
   "cell_type": "code",
   "execution_count": 372,
   "metadata": {},
   "outputs": [],
   "source": [
    "ai_graphs = pd.DataFrame(ai, columns= ['Talent', 'Infrastructure', 'Operating_Environment', 'Research', \n",
    "                                       'Development', 'Government_Strategy', 'Commercial', 'Total_score'] )\n"
   ]
  },
  {
   "attachments": {},
   "cell_type": "markdown",
   "metadata": {},
   "source": [
    "Those graphs below show the corrilation between each float data type colume"
   ]
  },
  {
   "cell_type": "code",
   "execution_count": 373,
   "metadata": {},
   "outputs": [
    {
     "data": {
      "image/png": "[encoded data removed]",
      "text/plain": [
       "<Figure size 1440x1440 with 72 Axes>"
      ]
     },
     "metadata": {
      "needs_background": "light"
     },
     "output_type": "display_data"
    }
   ],
   "source": [
    "import seaborn as sns\n",
    "pal = sns.color_palette(n_colors=3)\n",
    "sns.pairplot(ai_graphs)\n",
    "plt.show()"
   ]
  },
  {
   "attachments": {},
   "cell_type": "markdown",
   "metadata": {},
   "source": [
    "# 3.Prepare the Data\n",
    "Splitting of data"
   ]
  },
  {
   "cell_type": "code",
   "execution_count": 374,
   "metadata": {},
   "outputs": [
    {
     "data": {
      "text/plain": [
       "((49, 13), (13, 13), (49, 13), (13, 13))"
      ]
     },
     "execution_count": 374,
     "metadata": {},
     "output_type": "execute_result"
    }
   ],
   "source": [
    "from sklearn.model_selection import train_test_split\n",
    "\n",
    "# set 1\n",
    "train_set, test_set = train_test_split(ai, test_size=0.2, random_state=42)\n",
    "\n",
    "# set 2\n",
    "train_set2, test_set2 = train_test_split(ai, test_size=0.2, random_state=43)\n",
    "\n",
    "train_set.shape, test_set.shape, train_set2.shape, test_set2.shape\n"
   ]
  },
  {
   "cell_type": "code",
   "execution_count": 375,
   "metadata": {},
   "outputs": [
    {
     "data": {
      "text/html": [
       "<div>\n",
       "<style scoped>\n",
       "    .dataframe tbody tr th:only-of-type {\n",
       "        vertical-align: middle;\n",
       "    }\n",
       "\n",
       "    .dataframe tbody tr th {\n",
       "        vertical-align: top;\n",
       "    }\n",
       "\n",
       "    .dataframe thead th {\n",
       "        text-align: right;\n",
       "    }\n",
       "</style>\n",
       "<table border=\"1\" class=\"dataframe\">\n",
       "  <thead>\n",
       "    <tr style=\"text-align: right;\">\n",
       "      <th></th>\n",
       "      <th>Country</th>\n",
       "      <th>Talent</th>\n",
       "      <th>Infrastructure</th>\n",
       "      <th>Operating_Environment</th>\n",
       "      <th>Research</th>\n",
       "      <th>Development</th>\n",
       "      <th>Government_Strategy</th>\n",
       "      <th>Commercial</th>\n",
       "      <th>Total_score</th>\n",
       "      <th>Region</th>\n",
       "      <th>Cluster</th>\n",
       "      <th>Income_group</th>\n",
       "      <th>Political_regime</th>\n",
       "    </tr>\n",
       "  </thead>\n",
       "  <tbody>\n",
       "    <tr>\n",
       "      <th>50</th>\n",
       "      <td>Bahrain</td>\n",
       "      <td>4.990</td>\n",
       "      <td>60.390</td>\n",
       "      <td>60.900</td>\n",
       "      <td>2.530</td>\n",
       "      <td>0.000</td>\n",
       "      <td>17.720</td>\n",
       "      <td>0.240</td>\n",
       "      <td>11.790</td>\n",
       "      <td>Middle East</td>\n",
       "      <td>Waking up</td>\n",
       "      <td>High</td>\n",
       "      <td>Closed autocracy</td>\n",
       "    </tr>\n",
       "    <tr>\n",
       "      <th>56</th>\n",
       "      <td>Armenia</td>\n",
       "      <td>6.690</td>\n",
       "      <td>37.840</td>\n",
       "      <td>58.400</td>\n",
       "      <td>0.280</td>\n",
       "      <td>0.330</td>\n",
       "      <td>14.400</td>\n",
       "      <td>1.370</td>\n",
       "      <td>8.490</td>\n",
       "      <td>Europe</td>\n",
       "      <td>Waking up</td>\n",
       "      <td>Upper middle</td>\n",
       "      <td>Electoral democracy</td>\n",
       "    </tr>\n",
       "    <tr>\n",
       "      <th>0</th>\n",
       "      <td>United States of America</td>\n",
       "      <td>100.000</td>\n",
       "      <td>94.020</td>\n",
       "      <td>64.560</td>\n",
       "      <td>100.000</td>\n",
       "      <td>100.000</td>\n",
       "      <td>77.390</td>\n",
       "      <td>100.000</td>\n",
       "      <td>100.000</td>\n",
       "      <td>Americas</td>\n",
       "      <td>Power players</td>\n",
       "      <td>High</td>\n",
       "      <td>Liberal democracy</td>\n",
       "    </tr>\n",
       "    <tr>\n",
       "      <th>57</th>\n",
       "      <td>Sri Lanka</td>\n",
       "      <td>6.270</td>\n",
       "      <td>34.640</td>\n",
       "      <td>35.790</td>\n",
       "      <td>0.120</td>\n",
       "      <td>0.950</td>\n",
       "      <td>35.570</td>\n",
       "      <td>0.090</td>\n",
       "      <td>6.620</td>\n",
       "      <td>Asia-Pacific</td>\n",
       "      <td>Nascent</td>\n",
       "      <td>Lower middle</td>\n",
       "      <td>Electoral democracy</td>\n",
       "    </tr>\n",
       "    <tr>\n",
       "      <th>5</th>\n",
       "      <td>Singapore</td>\n",
       "      <td>39.380</td>\n",
       "      <td>84.300</td>\n",
       "      <td>43.150</td>\n",
       "      <td>37.670</td>\n",
       "      <td>22.550</td>\n",
       "      <td>79.820</td>\n",
       "      <td>15.070</td>\n",
       "      <td>38.670</td>\n",
       "      <td>Asia-Pacific</td>\n",
       "      <td>Rising stars</td>\n",
       "      <td>High</td>\n",
       "      <td>Electoral democracy</td>\n",
       "    </tr>\n",
       "    <tr>\n",
       "      <th>48</th>\n",
       "      <td>Colombia</td>\n",
       "      <td>4.970</td>\n",
       "      <td>54.800</td>\n",
       "      <td>62.370</td>\n",
       "      <td>0.000</td>\n",
       "      <td>0.890</td>\n",
       "      <td>85.290</td>\n",
       "      <td>0.500</td>\n",
       "      <td>13.850</td>\n",
       "      <td>Americas</td>\n",
       "      <td>Waking up</td>\n",
       "      <td>Upper middle</td>\n",
       "      <td>Electoral democracy</td>\n",
       "    </tr>\n",
       "    <tr>\n",
       "      <th>16</th>\n",
       "      <td>India</td>\n",
       "      <td>45.270</td>\n",
       "      <td>33.910</td>\n",
       "      <td>77.300</td>\n",
       "      <td>18.920</td>\n",
       "      <td>30.860</td>\n",
       "      <td>58.830</td>\n",
       "      <td>7.390</td>\n",
       "      <td>30.360</td>\n",
       "      <td>Asia-Pacific</td>\n",
       "      <td>Waking up</td>\n",
       "      <td>Lower middle</td>\n",
       "      <td>Electoral autocracy</td>\n",
       "    </tr>\n",
       "    <tr>\n",
       "      <th>12</th>\n",
       "      <td>Finland</td>\n",
       "      <td>24.990</td>\n",
       "      <td>71.600</td>\n",
       "      <td>78.760</td>\n",
       "      <td>25.210</td>\n",
       "      <td>18.320</td>\n",
       "      <td>85.990</td>\n",
       "      <td>4.640</td>\n",
       "      <td>31.360</td>\n",
       "      <td>Europe</td>\n",
       "      <td>Rising stars</td>\n",
       "      <td>High</td>\n",
       "      <td>Liberal democracy</td>\n",
       "    </tr>\n",
       "    <tr>\n",
       "      <th>25</th>\n",
       "      <td>Saudi Arabia</td>\n",
       "      <td>4.490</td>\n",
       "      <td>70.800</td>\n",
       "      <td>100.000</td>\n",
       "      <td>13.630</td>\n",
       "      <td>14.380</td>\n",
       "      <td>91.630</td>\n",
       "      <td>4.730</td>\n",
       "      <td>25.600</td>\n",
       "      <td>Middle East</td>\n",
       "      <td>Waking up</td>\n",
       "      <td>High</td>\n",
       "      <td>Closed autocracy</td>\n",
       "    </tr>\n",
       "    <tr>\n",
       "      <th>59</th>\n",
       "      <td>Kenya</td>\n",
       "      <td>0.750</td>\n",
       "      <td>14.110</td>\n",
       "      <td>29.840</td>\n",
       "      <td>0.070</td>\n",
       "      <td>12.150</td>\n",
       "      <td>7.750</td>\n",
       "      <td>0.310</td>\n",
       "      <td>2.300</td>\n",
       "      <td>Africa</td>\n",
       "      <td>Nascent</td>\n",
       "      <td>Lower middle</td>\n",
       "      <td>Electoral autocracy</td>\n",
       "    </tr>\n",
       "    <tr>\n",
       "      <th>30</th>\n",
       "      <td>Italy</td>\n",
       "      <td>11.090</td>\n",
       "      <td>64.760</td>\n",
       "      <td>83.250</td>\n",
       "      <td>20.300</td>\n",
       "      <td>14.660</td>\n",
       "      <td>61.430</td>\n",
       "      <td>2.640</td>\n",
       "      <td>24.450</td>\n",
       "      <td>Europe</td>\n",
       "      <td>Waking up</td>\n",
       "      <td>High</td>\n",
       "      <td>Liberal democracy</td>\n",
       "    </tr>\n",
       "    <tr>\n",
       "      <th>9</th>\n",
       "      <td>France</td>\n",
       "      <td>28.320</td>\n",
       "      <td>77.150</td>\n",
       "      <td>80.020</td>\n",
       "      <td>25.480</td>\n",
       "      <td>21.440</td>\n",
       "      <td>91.200</td>\n",
       "      <td>7.650</td>\n",
       "      <td>34.420</td>\n",
       "      <td>Europe</td>\n",
       "      <td>Traditional champions</td>\n",
       "      <td>High</td>\n",
       "      <td>Liberal democracy</td>\n",
       "    </tr>\n",
       "    <tr>\n",
       "      <th>47</th>\n",
       "      <td>Turkey</td>\n",
       "      <td>8.490</td>\n",
       "      <td>40.740</td>\n",
       "      <td>64.340</td>\n",
       "      <td>9.530</td>\n",
       "      <td>1.020</td>\n",
       "      <td>67.450</td>\n",
       "      <td>0.950</td>\n",
       "      <td>14.390</td>\n",
       "      <td>Europe</td>\n",
       "      <td>Waking up</td>\n",
       "      <td>High</td>\n",
       "      <td>Electoral democracy</td>\n",
       "    </tr>\n",
       "  </tbody>\n",
       "</table>\n",
       "</div>"
      ],
      "text/plain": [
       "                     Country  Talent  Infrastructure  Operating_Environment  \\\n",
       "50                   Bahrain   4.990          60.390                 60.900   \n",
       "56                   Armenia   6.690          37.840                 58.400   \n",
       "0   United States of America 100.000          94.020                 64.560   \n",
       "57                 Sri Lanka   6.270          34.640                 35.790   \n",
       "5                  Singapore  39.380          84.300                 43.150   \n",
       "48                  Colombia   4.970          54.800                 62.370   \n",
       "16                     India  45.270          33.910                 77.300   \n",
       "12                   Finland  24.990          71.600                 78.760   \n",
       "25              Saudi Arabia   4.490          70.800                100.000   \n",
       "59                     Kenya   0.750          14.110                 29.840   \n",
       "30                     Italy  11.090          64.760                 83.250   \n",
       "9                     France  28.320          77.150                 80.020   \n",
       "47                    Turkey   8.490          40.740                 64.340   \n",
       "\n",
       "    Research  Development  Government_Strategy  Commercial  Total_score  \\\n",
       "50     2.530        0.000               17.720       0.240       11.790   \n",
       "56     0.280        0.330               14.400       1.370        8.490   \n",
       "0    100.000      100.000               77.390     100.000      100.000   \n",
       "57     0.120        0.950               35.570       0.090        6.620   \n",
       "5     37.670       22.550               79.820      15.070       38.670   \n",
       "48     0.000        0.890               85.290       0.500       13.850   \n",
       "16    18.920       30.860               58.830       7.390       30.360   \n",
       "12    25.210       18.320               85.990       4.640       31.360   \n",
       "25    13.630       14.380               91.630       4.730       25.600   \n",
       "59     0.070       12.150                7.750       0.310        2.300   \n",
       "30    20.300       14.660               61.430       2.640       24.450   \n",
       "9     25.480       21.440               91.200       7.650       34.420   \n",
       "47     9.530        1.020               67.450       0.950       14.390   \n",
       "\n",
       "          Region                Cluster  Income_group     Political_regime  \n",
       "50   Middle East              Waking up          High     Closed autocracy  \n",
       "56        Europe              Waking up  Upper middle  Electoral democracy  \n",
       "0       Americas          Power players          High    Liberal democracy  \n",
       "57  Asia-Pacific                Nascent  Lower middle  Electoral democracy  \n",
       "5   Asia-Pacific           Rising stars          High  Electoral democracy  \n",
       "48      Americas              Waking up  Upper middle  Electoral democracy  \n",
       "16  Asia-Pacific              Waking up  Lower middle  Electoral autocracy  \n",
       "12        Europe           Rising stars          High    Liberal democracy  \n",
       "25   Middle East              Waking up          High     Closed autocracy  \n",
       "59        Africa                Nascent  Lower middle  Electoral autocracy  \n",
       "30        Europe              Waking up          High    Liberal democracy  \n",
       "9         Europe  Traditional champions          High    Liberal democracy  \n",
       "47        Europe              Waking up          High  Electoral democracy  "
      ]
     },
     "execution_count": 375,
     "metadata": {},
     "output_type": "execute_result"
    }
   ],
   "source": [
    "test_set"
   ]
  },
  {
   "cell_type": "code",
   "execution_count": 376,
   "metadata": {},
   "outputs": [
    {
     "data": {
      "text/html": [
       "<div>\n",
       "<style scoped>\n",
       "    .dataframe tbody tr th:only-of-type {\n",
       "        vertical-align: middle;\n",
       "    }\n",
       "\n",
       "    .dataframe tbody tr th {\n",
       "        vertical-align: top;\n",
       "    }\n",
       "\n",
       "    .dataframe thead th {\n",
       "        text-align: right;\n",
       "    }\n",
       "</style>\n",
       "<table border=\"1\" class=\"dataframe\">\n",
       "  <thead>\n",
       "    <tr style=\"text-align: right;\">\n",
       "      <th></th>\n",
       "      <th>Country</th>\n",
       "      <th>Talent</th>\n",
       "      <th>Infrastructure</th>\n",
       "      <th>Operating_Environment</th>\n",
       "      <th>Research</th>\n",
       "      <th>Development</th>\n",
       "      <th>Government_Strategy</th>\n",
       "      <th>Commercial</th>\n",
       "      <th>Total_score</th>\n",
       "      <th>Region</th>\n",
       "      <th>Cluster</th>\n",
       "      <th>Income_group</th>\n",
       "      <th>Political_regime</th>\n",
       "    </tr>\n",
       "  </thead>\n",
       "  <tbody>\n",
       "    <tr>\n",
       "      <th>52</th>\n",
       "      <td>Indonesia</td>\n",
       "      <td>5.510</td>\n",
       "      <td>47.520</td>\n",
       "      <td>51.180</td>\n",
       "      <td>0.980</td>\n",
       "      <td>3.520</td>\n",
       "      <td>59.990</td>\n",
       "      <td>0.910</td>\n",
       "      <td>11.470</td>\n",
       "      <td>Asia-Pacific</td>\n",
       "      <td>Waking up</td>\n",
       "      <td>Lower middle</td>\n",
       "      <td>Electoral democracy</td>\n",
       "    </tr>\n",
       "    <tr>\n",
       "      <th>45</th>\n",
       "      <td>Argentina</td>\n",
       "      <td>8.400</td>\n",
       "      <td>56.150</td>\n",
       "      <td>75.950</td>\n",
       "      <td>1.250</td>\n",
       "      <td>3.190</td>\n",
       "      <td>54.940</td>\n",
       "      <td>0.340</td>\n",
       "      <td>15.240</td>\n",
       "      <td>Americas</td>\n",
       "      <td>Waking up</td>\n",
       "      <td>Upper middle</td>\n",
       "      <td>Electoral democracy</td>\n",
       "    </tr>\n",
       "    <tr>\n",
       "      <th>18</th>\n",
       "      <td>Sweden</td>\n",
       "      <td>28.210</td>\n",
       "      <td>75.190</td>\n",
       "      <td>66.770</td>\n",
       "      <td>27.610</td>\n",
       "      <td>17.810</td>\n",
       "      <td>40.350</td>\n",
       "      <td>4.510</td>\n",
       "      <td>29.850</td>\n",
       "      <td>Europe</td>\n",
       "      <td>Waking up</td>\n",
       "      <td>High</td>\n",
       "      <td>Liberal democracy</td>\n",
       "    </tr>\n",
       "    <tr>\n",
       "      <th>5</th>\n",
       "      <td>Singapore</td>\n",
       "      <td>39.380</td>\n",
       "      <td>84.300</td>\n",
       "      <td>43.150</td>\n",
       "      <td>37.670</td>\n",
       "      <td>22.550</td>\n",
       "      <td>79.820</td>\n",
       "      <td>15.070</td>\n",
       "      <td>38.670</td>\n",
       "      <td>Asia-Pacific</td>\n",
       "      <td>Rising stars</td>\n",
       "      <td>High</td>\n",
       "      <td>Electoral democracy</td>\n",
       "    </tr>\n",
       "    <tr>\n",
       "      <th>37</th>\n",
       "      <td>Lithuania</td>\n",
       "      <td>14.300</td>\n",
       "      <td>63.190</td>\n",
       "      <td>80.670</td>\n",
       "      <td>3.220</td>\n",
       "      <td>6.180</td>\n",
       "      <td>64.280</td>\n",
       "      <td>1.770</td>\n",
       "      <td>19.590</td>\n",
       "      <td>Europe</td>\n",
       "      <td>Waking up</td>\n",
       "      <td>High</td>\n",
       "      <td>Electoral democracy</td>\n",
       "    </tr>\n",
       "    <tr>\n",
       "      <th>38</th>\n",
       "      <td>Brazil</td>\n",
       "      <td>13.460</td>\n",
       "      <td>62.610</td>\n",
       "      <td>72.820</td>\n",
       "      <td>4.830</td>\n",
       "      <td>5.070</td>\n",
       "      <td>67.720</td>\n",
       "      <td>1.360</td>\n",
       "      <td>18.890</td>\n",
       "      <td>Americas</td>\n",
       "      <td>Waking up</td>\n",
       "      <td>Upper middle</td>\n",
       "      <td>Electoral democracy</td>\n",
       "    </tr>\n",
       "    <tr>\n",
       "      <th>39</th>\n",
       "      <td>Greece</td>\n",
       "      <td>7.620</td>\n",
       "      <td>55.440</td>\n",
       "      <td>83.580</td>\n",
       "      <td>15.120</td>\n",
       "      <td>2.210</td>\n",
       "      <td>22.150</td>\n",
       "      <td>0.920</td>\n",
       "      <td>17.330</td>\n",
       "      <td>Europe</td>\n",
       "      <td>Waking up</td>\n",
       "      <td>High</td>\n",
       "      <td>Liberal democracy</td>\n",
       "    </tr>\n",
       "    <tr>\n",
       "      <th>19</th>\n",
       "      <td>Hong Kong</td>\n",
       "      <td>17.560</td>\n",
       "      <td>96.110</td>\n",
       "      <td>59.500</td>\n",
       "      <td>31.510</td>\n",
       "      <td>8.630</td>\n",
       "      <td>33.290</td>\n",
       "      <td>5.300</td>\n",
       "      <td>29.110</td>\n",
       "      <td>Asia-Pacific</td>\n",
       "      <td>Waking up</td>\n",
       "      <td>High</td>\n",
       "      <td>Electoral democracy</td>\n",
       "    </tr>\n",
       "    <tr>\n",
       "      <th>55</th>\n",
       "      <td>Morocco</td>\n",
       "      <td>3.360</td>\n",
       "      <td>44.880</td>\n",
       "      <td>60.170</td>\n",
       "      <td>1.460</td>\n",
       "      <td>0.050</td>\n",
       "      <td>15.900</td>\n",
       "      <td>0.100</td>\n",
       "      <td>8.870</td>\n",
       "      <td>Africa</td>\n",
       "      <td>Waking up</td>\n",
       "      <td>Lower middle</td>\n",
       "      <td>Closed autocracy</td>\n",
       "    </tr>\n",
       "    <tr>\n",
       "      <th>33</th>\n",
       "      <td>United Arab Emirates</td>\n",
       "      <td>2.650</td>\n",
       "      <td>79.160</td>\n",
       "      <td>72.120</td>\n",
       "      <td>5.130</td>\n",
       "      <td>15.530</td>\n",
       "      <td>81.380</td>\n",
       "      <td>3.220</td>\n",
       "      <td>21.170</td>\n",
       "      <td>Middle East</td>\n",
       "      <td>Waking up</td>\n",
       "      <td>High</td>\n",
       "      <td>Closed autocracy</td>\n",
       "    </tr>\n",
       "    <tr>\n",
       "      <th>22</th>\n",
       "      <td>Estonia</td>\n",
       "      <td>18.740</td>\n",
       "      <td>63.650</td>\n",
       "      <td>88.670</td>\n",
       "      <td>11.750</td>\n",
       "      <td>9.310</td>\n",
       "      <td>72.080</td>\n",
       "      <td>12.510</td>\n",
       "      <td>26.600</td>\n",
       "      <td>Europe</td>\n",
       "      <td>Waking up</td>\n",
       "      <td>High</td>\n",
       "      <td>Liberal democracy</td>\n",
       "    </tr>\n",
       "    <tr>\n",
       "      <th>14</th>\n",
       "      <td>Luxembourg</td>\n",
       "      <td>21.660</td>\n",
       "      <td>94.880</td>\n",
       "      <td>66.960</td>\n",
       "      <td>19.390</td>\n",
       "      <td>19.950</td>\n",
       "      <td>66.690</td>\n",
       "      <td>4.680</td>\n",
       "      <td>30.730</td>\n",
       "      <td>Europe</td>\n",
       "      <td>Waking up</td>\n",
       "      <td>High</td>\n",
       "      <td>Liberal democracy</td>\n",
       "    </tr>\n",
       "    <tr>\n",
       "      <th>6</th>\n",
       "      <td>South Korea</td>\n",
       "      <td>14.540</td>\n",
       "      <td>85.230</td>\n",
       "      <td>68.860</td>\n",
       "      <td>26.660</td>\n",
       "      <td>77.250</td>\n",
       "      <td>87.500</td>\n",
       "      <td>5.410</td>\n",
       "      <td>38.600</td>\n",
       "      <td>Asia-Pacific</td>\n",
       "      <td>Rising stars</td>\n",
       "      <td>High</td>\n",
       "      <td>Liberal democracy</td>\n",
       "    </tr>\n",
       "  </tbody>\n",
       "</table>\n",
       "</div>"
      ],
      "text/plain": [
       "                 Country  Talent  Infrastructure  Operating_Environment  \\\n",
       "52             Indonesia   5.510          47.520                 51.180   \n",
       "45             Argentina   8.400          56.150                 75.950   \n",
       "18                Sweden  28.210          75.190                 66.770   \n",
       "5              Singapore  39.380          84.300                 43.150   \n",
       "37             Lithuania  14.300          63.190                 80.670   \n",
       "38                Brazil  13.460          62.610                 72.820   \n",
       "39                Greece   7.620          55.440                 83.580   \n",
       "19             Hong Kong  17.560          96.110                 59.500   \n",
       "55               Morocco   3.360          44.880                 60.170   \n",
       "33  United Arab Emirates   2.650          79.160                 72.120   \n",
       "22               Estonia  18.740          63.650                 88.670   \n",
       "14            Luxembourg  21.660          94.880                 66.960   \n",
       "6            South Korea  14.540          85.230                 68.860   \n",
       "\n",
       "    Research  Development  Government_Strategy  Commercial  Total_score  \\\n",
       "52     0.980        3.520               59.990       0.910       11.470   \n",
       "45     1.250        3.190               54.940       0.340       15.240   \n",
       "18    27.610       17.810               40.350       4.510       29.850   \n",
       "5     37.670       22.550               79.820      15.070       38.670   \n",
       "37     3.220        6.180               64.280       1.770       19.590   \n",
       "38     4.830        5.070               67.720       1.360       18.890   \n",
       "39    15.120        2.210               22.150       0.920       17.330   \n",
       "19    31.510        8.630               33.290       5.300       29.110   \n",
       "55     1.460        0.050               15.900       0.100        8.870   \n",
       "33     5.130       15.530               81.380       3.220       21.170   \n",
       "22    11.750        9.310               72.080      12.510       26.600   \n",
       "14    19.390       19.950               66.690       4.680       30.730   \n",
       "6     26.660       77.250               87.500       5.410       38.600   \n",
       "\n",
       "          Region       Cluster  Income_group     Political_regime  \n",
       "52  Asia-Pacific     Waking up  Lower middle  Electoral democracy  \n",
       "45      Americas     Waking up  Upper middle  Electoral democracy  \n",
       "18        Europe     Waking up          High    Liberal democracy  \n",
       "5   Asia-Pacific  Rising stars          High  Electoral democracy  \n",
       "37        Europe     Waking up          High  Electoral democracy  \n",
       "38      Americas     Waking up  Upper middle  Electoral democracy  \n",
       "39        Europe     Waking up          High    Liberal democracy  \n",
       "19  Asia-Pacific     Waking up          High  Electoral democracy  \n",
       "55        Africa     Waking up  Lower middle     Closed autocracy  \n",
       "33   Middle East     Waking up          High     Closed autocracy  \n",
       "22        Europe     Waking up          High    Liberal democracy  \n",
       "14        Europe     Waking up          High    Liberal democracy  \n",
       "6   Asia-Pacific  Rising stars          High    Liberal democracy  "
      ]
     },
     "execution_count": 376,
     "metadata": {},
     "output_type": "execute_result"
    }
   ],
   "source": [
    "test_set2"
   ]
  },
  {
   "attachments": {},
   "cell_type": "markdown",
   "metadata": {},
   "source": [
    "# Set 1"
   ]
  },
  {
   "cell_type": "code",
   "execution_count": 377,
   "metadata": {},
   "outputs": [
    {
     "data": {
      "text/plain": [
       "(13, 7)"
      ]
     },
     "execution_count": 377,
     "metadata": {},
     "output_type": "execute_result"
    }
   ],
   "source": [
    "from sklearn.pipeline import Pipeline\n",
    "from sklearn.preprocessing import StandardScaler\n",
    "from sklearn.impute import SimpleImputer\n",
    "\n",
    "num_pipeline = Pipeline([\n",
    "    ('imputer', SimpleImputer(strategy=\"median\")),\n",
    "    ('std_scaler', StandardScaler())\n",
    "])\n",
    "\n",
    "ai_num = train_set.select_dtypes(include=[np.number])\n",
    "ai_no_total = ai_num.drop(\"Total_score\", axis=1)\n",
    "ai_only_total = ai_num[\"Total_score\"].copy()\n",
    "ai_prepared = num_pipeline.fit_transform(ai_no_total)\n",
    "ai_prepared.shape\n",
    "\n",
    "ai_num_test = test_set.select_dtypes(include=[np.number])\n",
    "ai_test_no_total = ai_num_test.drop(\"Total_score\", axis=1)\n",
    "ai_test_only_total = ai_num_test[\"Total_score\"].copy()\n",
    "ai_test_prepared = num_pipeline.fit_transform(ai_test_no_total)\n",
    "ai_test_prepared.shape\n"
   ]
  },
  {
   "attachments": {},
   "cell_type": "markdown",
   "metadata": {},
   "source": [
    "# Set 2\n",
    "As one of them didnt have USA (kinda of an outlier, but it wasnt removed as all index values lie on the line of 0-100 and if we removed the 100 the line would shorten and that would then mean the data cant have as high of a total score as it should have) in the test data and one did i wanted to see how much the outcome would diffrenciate so i made 2 sets of training and testing data"
   ]
  },
  {
   "cell_type": "code",
   "execution_count": 378,
   "metadata": {},
   "outputs": [],
   "source": [
    "ai_num2 = train_set2.select_dtypes(include=[np.number])\n",
    "ai_no_total2 = ai_num2.drop(\"Total_score\", axis=1)\n",
    "ai_only_total2 = ai_num2[\"Total_score\"].copy()\n",
    "ai_prepared2 = num_pipeline.fit_transform(ai_no_total2)\n",
    "\n",
    "ai_num_test2 = test_set2.select_dtypes(include=[np.number])\n",
    "ai_test_no_total2 = ai_num_test2.drop(\"Total_score\", axis=1)\n",
    "ai_test_only_total2 = ai_num_test2[\"Total_score\"].copy()\n",
    "ai_test_prepared2 = num_pipeline.fit_transform(ai_test_no_total2)"
   ]
  },
  {
   "attachments": {},
   "cell_type": "markdown",
   "metadata": {},
   "source": [
    "# 4.1.Training model 1\n",
    "SGDRegressor"
   ]
  },
  {
   "cell_type": "code",
   "execution_count": 379,
   "metadata": {},
   "outputs": [
    {
     "name": "stdout",
     "output_type": "stream",
     "text": [
      "SGD Regressor intercept: [23.27]\n",
      "SGD Regressor coefficient: [2.22 2.57 1.84 3.22 2.35 1.16 1.71]\n",
      "SGD Regressor intercept 2: [24.01]\n",
      "SGD Regressor coefficient 2: [3.64 2.87 1.96 3.94 2.82 1.23 3.61]\n"
     ]
    }
   ],
   "source": [
    "from sklearn.linear_model import SGDRegressor\n",
    "\n",
    "# set 1\n",
    "sgd_reg = SGDRegressor(\n",
    "    loss=\"squared_error\", # default cost function (MSE)\n",
    "    max_iter=1000,   # maximum number of passes over the training data (aka epochs)\n",
    "    penalty=None, # no regularisation\n",
    "    eta0=0.05,  # initial learning rate\n",
    "    tol=1e-3,   # stopping criterion tolerance. stop searching for a minimum \n",
    "                # (or maximum) once some tolerance is achieved, i.e. \n",
    "                # once you're close enough.\n",
    ")\n",
    "\n",
    "# set 2\n",
    "sgd_reg2 = SGDRegressor(\n",
    "    loss=\"squared_error\", # default cost function (MSE)\n",
    "    max_iter=1000,   # maximum number of passes over the training data (aka epochs)\n",
    "    penalty=None, # no regularisation\n",
    "    eta0=0.05,  # initial learning rate\n",
    "    tol=1e-3,   # stopping criterion tolerance. stop searching for a minimum \n",
    "                # (or maximum) once some tolerance is achieved, i.e. \n",
    "                # once you're close enough.\n",
    ")\n",
    "\n",
    "# set 1\n",
    "sgd_reg.fit(ai_prepared, ai_only_total)\n",
    "print('SGD Regressor intercept: {}'.format(sgd_reg.intercept_))\n",
    "print('SGD Regressor coefficient: {}'.format(sgd_reg.coef_))\n",
    "\n",
    "# set 2\n",
    "sgd_reg2.fit(ai_prepared2, ai_only_total2)\n",
    "print('SGD Regressor intercept 2: {}'.format(sgd_reg2.intercept_))\n",
    "print('SGD Regressor coefficient 2: {}'.format(sgd_reg2.coef_))"
   ]
  },
  {
   "cell_type": "code",
   "execution_count": 380,
   "metadata": {},
   "outputs": [],
   "source": [
    "from sklearn.metrics import mean_squared_error\n",
    "from sklearn.model_selection import train_test_split\n",
    "from sklearn.utils._testing import ignore_warnings\n",
    "from sklearn.exceptions import ConvergenceWarning\n",
    "import seaborn as sns\n",
    "\n",
    "@ignore_warnings(category=ConvergenceWarning)\n",
    "def plot_learning_curves(model, X, y, max_training_samples=None):\n",
    "    X_train, X_val, y_train, y_val = train_test_split(\n",
    "        X, y, test_size=0.2\n",
    "    )\n",
    "    train_errors, val_errors = [], []\n",
    "    # for training set size from 1 to max_training_samples\n",
    "    for m in range(1, min(len(X_train), max_training_samples)):\n",
    "        # train a new model\n",
    "        model.fit(X_train[:m], y_train[:m])\n",
    "        # make predictions on the training and validation set\n",
    "        y_train_predict = model.predict(X_train[:m])\n",
    "        y_val_predict = model.predict(X_val)\n",
    "        # compute the MSE on the training and validation set\n",
    "        train_errors.append(\n",
    "            mean_squared_error(y_train[:m], y_train_predict)\n",
    "        )\n",
    "        val_errors.append(\n",
    "            mean_squared_error(y_val, y_val_predict)\n",
    "        )\n",
    "    fig, ax = plt.subplots(figsize=(16,10))\n",
    "    # plot our performance metric (i.e. the RMSE)\n",
    "    sns.lineplot(data=np.sqrt(train_errors), linewidth=2, label=\"train\", ax=ax)\n",
    "    sns.lineplot(data=np.sqrt(val_errors), linewidth=2, label=\"val\", ax=ax)"
   ]
  },
  {
   "attachments": {},
   "cell_type": "markdown",
   "metadata": {},
   "source": [
    "# Set 1"
   ]
  },
  {
   "cell_type": "code",
   "execution_count": 381,
   "metadata": {},
   "outputs": [
    {
     "name": "stdout",
     "output_type": "stream",
     "text": [
      "CPU times: total: 62.5 ms\n",
      "Wall time: 71.5 ms\n"
     ]
    },
    {
     "data": {
      "image/png": "[encoded data removed]",
      "text/plain": [
       "<Figure size 1152x720 with 1 Axes>"
      ]
     },
     "metadata": {
      "needs_background": "light"
     },
     "output_type": "display_data"
    }
   ],
   "source": [
    "%%time\n",
    "plot_learning_curves(sgd_reg, ai_prepared, ai_only_total, max_training_samples=500) "
   ]
  },
  {
   "attachments": {},
   "cell_type": "markdown",
   "metadata": {},
   "source": [
    "# Set 2"
   ]
  },
  {
   "cell_type": "code",
   "execution_count": 382,
   "metadata": {},
   "outputs": [
    {
     "name": "stdout",
     "output_type": "stream",
     "text": [
      "CPU times: total: 62.5 ms\n",
      "Wall time: 65 ms\n"
     ]
    },
    {
     "data": {
      "image/png": "[encoded data removed]",
      "text/plain": [
       "<Figure size 1152x720 with 1 Axes>"
      ]
     },
     "metadata": {
      "needs_background": "light"
     },
     "output_type": "display_data"
    }
   ],
   "source": [
    "%%time\n",
    "plot_learning_curves(sgd_reg2, ai_prepared2, ai_only_total2, max_training_samples=500) "
   ]
  },
  {
   "attachments": {},
   "cell_type": "markdown",
   "metadata": {},
   "source": [
    "# Set 1"
   ]
  },
  {
   "cell_type": "code",
   "execution_count": 383,
   "metadata": {},
   "outputs": [
    {
     "data": {
      "text/plain": [
       "0.05159884629553832"
      ]
     },
     "execution_count": 383,
     "metadata": {},
     "output_type": "execute_result"
    }
   ],
   "source": [
    "ai_predictions = sgd_reg.predict(ai_prepared)\n",
    "sgd_mse = mean_squared_error(ai_only_total, ai_predictions)\n",
    "sgd_rmse = np.sqrt(sgd_mse)\n",
    "sgd_rmse"
   ]
  },
  {
   "attachments": {},
   "cell_type": "markdown",
   "metadata": {},
   "source": [
    "# Set 2"
   ]
  },
  {
   "cell_type": "code",
   "execution_count": 384,
   "metadata": {},
   "outputs": [
    {
     "data": {
      "text/plain": [
       "0.3230589500460386"
      ]
     },
     "execution_count": 384,
     "metadata": {},
     "output_type": "execute_result"
    }
   ],
   "source": [
    "ai_predictions2 = sgd_reg2.predict(ai_prepared2)\n",
    "sgd_mse2 = mean_squared_error(ai_only_total2, ai_predictions2)\n",
    "sgd_rmse2 = np.sqrt(sgd_mse2)\n",
    "sgd_rmse2"
   ]
  },
  {
   "attachments": {},
   "cell_type": "markdown",
   "metadata": {},
   "source": [
    "The above is tested on the train data and the below is going to be tested on the test data."
   ]
  },
  {
   "attachments": {},
   "cell_type": "markdown",
   "metadata": {},
   "source": [
    "# Set 1 test"
   ]
  },
  {
   "attachments": {},
   "cell_type": "markdown",
   "metadata": {},
   "source": [
    "# on model 1"
   ]
  },
  {
   "cell_type": "code",
   "execution_count": 385,
   "metadata": {},
   "outputs": [
    {
     "data": {
      "text/plain": [
       "12.446535289419458"
      ]
     },
     "execution_count": 385,
     "metadata": {},
     "output_type": "execute_result"
    }
   ],
   "source": [
    "ai_test_predictions = sgd_reg.predict(ai_test_prepared)\n",
    "sgd_mse = mean_squared_error(ai_test_only_total, ai_test_predictions)\n",
    "sgd_rmse = np.sqrt(sgd_mse)\n",
    "sgd_rmse"
   ]
  },
  {
   "cell_type": "code",
   "execution_count": 386,
   "metadata": {},
   "outputs": [
    {
     "data": {
      "text/plain": [
       "(array([15.85, 12.77, 58.07, 10.97, 29.58, 17.71, 24.43, 27.9 , 26.59,\n",
       "         7.46, 24.36, 29.67, 17.04]),\n",
       " 50    11.790\n",
       " 56     8.490\n",
       " 0    100.000\n",
       " 57     6.620\n",
       " 5     38.670\n",
       " 48    13.850\n",
       " 16    30.360\n",
       " 12    31.360\n",
       " 25    25.600\n",
       " 59     2.300\n",
       " 30    24.450\n",
       " 9     34.420\n",
       " 47    14.390\n",
       " Name: Total_score, dtype: float64)"
      ]
     },
     "execution_count": 386,
     "metadata": {},
     "output_type": "execute_result"
    }
   ],
   "source": [
    "ai_test_predictions, ai_test_only_total"
   ]
  },
  {
   "attachments": {},
   "cell_type": "markdown",
   "metadata": {},
   "source": [
    "Welp that sucks but the model was trained where a few of the 100 were gone and then when tested the data suddenly had a few 100 in unexpected places (like for example the total score). So the rmse kind of makes sense. All were give or take 10 but the 3rd one was 45 ish off."
   ]
  },
  {
   "attachments": {},
   "cell_type": "markdown",
   "metadata": {},
   "source": [
    "# on model 2"
   ]
  },
  {
   "cell_type": "code",
   "execution_count": 387,
   "metadata": {},
   "outputs": [
    {
     "data": {
      "text/plain": [
       "7.9990876144999365"
      ]
     },
     "execution_count": 387,
     "metadata": {},
     "output_type": "execute_result"
    }
   ],
   "source": [
    "ai_test_predictions2 = sgd_reg2.predict(ai_test_prepared)\n",
    "sgd_mse = mean_squared_error(ai_test_only_total, ai_test_predictions2)\n",
    "sgd_rmse = np.sqrt(sgd_mse)\n",
    "sgd_rmse"
   ]
  },
  {
   "cell_type": "code",
   "execution_count": 388,
   "metadata": {},
   "outputs": [
    {
     "data": {
      "text/plain": [
       "(array([13.89, 10.68, 72.89,  8.61, 32.31, 15.75, 26.47, 28.96, 26.15,\n",
       "         4.84, 24.23, 31.21, 15.58]),\n",
       " 50    11.790\n",
       " 56     8.490\n",
       " 0    100.000\n",
       " 57     6.620\n",
       " 5     38.670\n",
       " 48    13.850\n",
       " 16    30.360\n",
       " 12    31.360\n",
       " 25    25.600\n",
       " 59     2.300\n",
       " 30    24.450\n",
       " 9     34.420\n",
       " 47    14.390\n",
       " Name: Total_score, dtype: float64)"
      ]
     },
     "execution_count": 388,
     "metadata": {},
     "output_type": "execute_result"
    }
   ],
   "source": [
    "ai_test_predictions2, ai_test_only_total"
   ]
  },
  {
   "attachments": {},
   "cell_type": "markdown",
   "metadata": {},
   "source": [
    "Unsiprisingly it did better on the 2 model which had some of the training data the same as the test data. Also the training data had the 100 so it was ready to recieve them. However the rmse is still pretty high. Mostly like 5 off but the 100 one is 28 off."
   ]
  },
  {
   "attachments": {},
   "cell_type": "markdown",
   "metadata": {},
   "source": [
    "# Set 2 test"
   ]
  },
  {
   "attachments": {},
   "cell_type": "markdown",
   "metadata": {},
   "source": [
    "# on model 1"
   ]
  },
  {
   "cell_type": "code",
   "execution_count": 389,
   "metadata": {},
   "outputs": [
    {
     "data": {
      "text/plain": [
       "1.170923502173003"
      ]
     },
     "execution_count": 389,
     "metadata": {},
     "output_type": "execute_result"
    }
   ],
   "source": [
    "ai_test_predictions3 = sgd_reg.predict(ai_test_prepared2)\n",
    "sgd_mse2 = mean_squared_error(ai_test_only_total2, ai_test_predictions3)\n",
    "sgd_rmse2 = np.sqrt(sgd_mse2)\n",
    "sgd_rmse2"
   ]
  },
  {
   "cell_type": "code",
   "execution_count": 390,
   "metadata": {},
   "outputs": [
    {
     "data": {
      "text/plain": [
       "(array([ 9.06, 14.28, 29.68, 39.41, 19.29, 18.16, 17.11, 29.55,  6.61,\n",
       "        21.17, 28.69, 31.05, 38.34]),\n",
       " 52   11.470\n",
       " 45   15.240\n",
       " 18   29.850\n",
       " 5    38.670\n",
       " 37   19.590\n",
       " 38   18.890\n",
       " 39   17.330\n",
       " 19   29.110\n",
       " 55    8.870\n",
       " 33   21.170\n",
       " 22   26.600\n",
       " 14   30.730\n",
       " 6    38.600\n",
       " Name: Total_score, dtype: float64)"
      ]
     },
     "execution_count": 390,
     "metadata": {},
     "output_type": "execute_result"
    }
   ],
   "source": [
    "ai_test_predictions3, ai_test_only_total2"
   ]
  },
  {
   "attachments": {},
   "cell_type": "markdown",
   "metadata": {},
   "source": [
    "This one was kind of a suprise but when you think about it it wasnt trained on 100 and it also didnt have the 100 in the test set, and also some data in training and test was duplicate, which made it easyier to predict, which in turn made it have a lowish rmse. All were give or take 3."
   ]
  },
  {
   "attachments": {},
   "cell_type": "markdown",
   "metadata": {},
   "source": [
    "# on model 2"
   ]
  },
  {
   "cell_type": "code",
   "execution_count": 391,
   "metadata": {},
   "outputs": [
    {
     "data": {
      "text/plain": [
       "4.68309760602124"
      ]
     },
     "execution_count": 391,
     "metadata": {},
     "output_type": "execute_result"
    }
   ],
   "source": [
    "ai_test_predictions4 = sgd_reg2.predict(ai_test_prepared2)\n",
    "sgd_mse2 = mean_squared_error(ai_test_only_total2, ai_test_predictions4)\n",
    "sgd_rmse2 = np.sqrt(sgd_mse2)\n",
    "sgd_rmse2"
   ]
  },
  {
   "cell_type": "code",
   "execution_count": 392,
   "metadata": {},
   "outputs": [
    {
     "data": {
      "text/plain": [
       "(array([ 5.48, 11.39, 33.58, 48.71, 18.07, 16.69, 15.48, 32.26,  2.45,\n",
       "        19.2 , 32.07, 33.65, 42.55]),\n",
       " 52   11.470\n",
       " 45   15.240\n",
       " 18   29.850\n",
       " 5    38.670\n",
       " 37   19.590\n",
       " 38   18.890\n",
       " 39   17.330\n",
       " 19   29.110\n",
       " 55    8.870\n",
       " 33   21.170\n",
       " 22   26.600\n",
       " 14   30.730\n",
       " 6    38.600\n",
       " Name: Total_score, dtype: float64)"
      ]
     },
     "execution_count": 392,
     "metadata": {},
     "output_type": "execute_result"
    }
   ],
   "source": [
    "ai_test_predictions4, ai_test_only_total2"
   ]
  },
  {
   "attachments": {},
   "cell_type": "markdown",
   "metadata": {},
   "source": [
    "This one was good pretty good. As the values between the training and test date didnt have duplicates the results were very good. So the rmse was not low or high somewhere average. Only around 5ish off and one 10ish off."
   ]
  },
  {
   "attachments": {},
   "cell_type": "markdown",
   "metadata": {},
   "source": [
    "# 4.1.Training model 2"
   ]
  },
  {
   "attachments": {},
   "cell_type": "markdown",
   "metadata": {},
   "source": [
    "# Training\n",
    "Linear regression"
   ]
  },
  {
   "cell_type": "code",
   "execution_count": 393,
   "metadata": {},
   "outputs": [],
   "source": [
    "from sklearn.metrics import mean_squared_error\n",
    "from sklearn.linear_model import LinearRegression\n",
    "\n",
    "lin_reg1 = LinearRegression().fit(ai_prepared, ai_only_total)\n",
    "lin_reg2 = LinearRegression().fit(ai_prepared2, ai_only_total2)\n",
    "\n",
    "ai_predictions = lin_reg1.predict(ai_prepared)\n",
    "lin_mse1 = mean_squared_error(ai_only_total, ai_predictions)\n",
    "\n",
    "ai_predictions2 = lin_reg2.predict(ai_prepared2)\n",
    "lin_mse2 = mean_squared_error(ai_only_total2, ai_predictions2)"
   ]
  },
  {
   "cell_type": "code",
   "execution_count": 394,
   "metadata": {},
   "outputs": [
    {
     "data": {
      "text/plain": [
       "(23.27367346938776, array([2.21, 2.61, 1.83, 3.19, 2.35, 1.15, 1.74]))"
      ]
     },
     "execution_count": 394,
     "metadata": {},
     "output_type": "execute_result"
    }
   ],
   "source": [
    "lin_reg1.intercept_, lin_reg1.coef_"
   ]
  },
  {
   "cell_type": "code",
   "execution_count": 408,
   "metadata": {},
   "outputs": [
    {
     "name": "stdout",
     "output_type": "stream",
     "text": [
      "CPU times: total: 62.5 ms\n",
      "Wall time: 61 ms\n"
     ]
    },
    {
     "data": {
      "image/png": "[encoded data removed]",
      "text/plain": [
       "<Figure size 1152x720 with 1 Axes>"
      ]
     },
     "metadata": {
      "needs_background": "light"
     },
     "output_type": "display_data"
    }
   ],
   "source": [
    "%%time\n",
    "plot_learning_curves(lin_reg1, ai_prepared, ai_only_total, max_training_samples=500) "
   ]
  },
  {
   "cell_type": "code",
   "execution_count": 395,
   "metadata": {},
   "outputs": [
    {
     "data": {
      "text/plain": [
       "(24.01204081632653, array([3.69, 2.82, 1.96, 4.18, 2.64, 1.24, 3.53]))"
      ]
     },
     "execution_count": 395,
     "metadata": {},
     "output_type": "execute_result"
    }
   ],
   "source": [
    "lin_reg2.intercept_, lin_reg2.coef_"
   ]
  },
  {
   "cell_type": "code",
   "execution_count": 407,
   "metadata": {},
   "outputs": [
    {
     "name": "stdout",
     "output_type": "stream",
     "text": [
      "CPU times: total: 62.5 ms\n",
      "Wall time: 72 ms\n"
     ]
    },
    {
     "data": {
      "image/png": "[encoded data removed]",
      "text/plain": [
       "<Figure size 1152x720 with 1 Axes>"
      ]
     },
     "metadata": {
      "needs_background": "light"
     },
     "output_type": "display_data"
    }
   ],
   "source": [
    "%%time\n",
    "plot_learning_curves(lin_reg2, ai_prepared2, ai_only_total2, max_training_samples=500) "
   ]
  },
  {
   "attachments": {},
   "cell_type": "markdown",
   "metadata": {},
   "source": [
    "# Testing"
   ]
  },
  {
   "cell_type": "code",
   "execution_count": 396,
   "metadata": {},
   "outputs": [],
   "source": [
    "# set 1 on model 1\n",
    "\n",
    "ai_test_predictions = lin_reg1.predict(ai_test_prepared)\n",
    "lin_mse1 = mean_squared_error(ai_test_only_total, ai_test_predictions)\n",
    "\n",
    "# set 1 on model 2\n",
    "\n",
    "ai_test_predictions2 = lin_reg2.predict(ai_test_prepared)\n",
    "lin_mse2 = mean_squared_error(ai_test_only_total, ai_test_predictions2)\n",
    "\n",
    "# set 2 on model 2\n",
    "\n",
    "ai_test_predictions3 = lin_reg1.predict(ai_test_prepared2)\n",
    "lin_mse3 = mean_squared_error(ai_test_only_total2, ai_test_predictions3)\n",
    "\n",
    "# set 2 on model 2\n",
    "\n",
    "ai_test_predictions4 = lin_reg2.predict(ai_test_prepared2)\n",
    "lin_mse4 = mean_squared_error(ai_test_only_total2, ai_test_predictions4)"
   ]
  },
  {
   "attachments": {},
   "cell_type": "markdown",
   "metadata": {},
   "source": [
    "# Set 1"
   ]
  },
  {
   "attachments": {},
   "cell_type": "markdown",
   "metadata": {},
   "source": [
    "## on model 1"
   ]
  },
  {
   "cell_type": "code",
   "execution_count": 403,
   "metadata": {},
   "outputs": [
    {
     "data": {
      "text/plain": [
       "12.425786643196385"
      ]
     },
     "execution_count": 403,
     "metadata": {},
     "output_type": "execute_result"
    }
   ],
   "source": [
    "lin_rmse1 = np.sqrt(lin_mse1)\n",
    "lin_rmse1"
   ]
  },
  {
   "attachments": {},
   "cell_type": "markdown",
   "metadata": {},
   "source": [
    "## on model 2"
   ]
  },
  {
   "cell_type": "code",
   "execution_count": 404,
   "metadata": {},
   "outputs": [
    {
     "data": {
      "text/plain": [
       "7.763711565223348"
      ]
     },
     "execution_count": 404,
     "metadata": {},
     "output_type": "execute_result"
    }
   ],
   "source": [
    "lin_rmse2 = np.sqrt(lin_mse2)\n",
    "lin_rmse2"
   ]
  },
  {
   "attachments": {},
   "cell_type": "markdown",
   "metadata": {},
   "source": [
    "# Set 2"
   ]
  },
  {
   "attachments": {},
   "cell_type": "markdown",
   "metadata": {},
   "source": [
    "## on model 1"
   ]
  },
  {
   "cell_type": "code",
   "execution_count": 405,
   "metadata": {},
   "outputs": [
    {
     "data": {
      "text/plain": [
       "1.160158204894688"
      ]
     },
     "execution_count": 405,
     "metadata": {},
     "output_type": "execute_result"
    }
   ],
   "source": [
    "lin_rmse3 = np.sqrt(lin_mse3)\n",
    "lin_rmse3"
   ]
  },
  {
   "attachments": {},
   "cell_type": "markdown",
   "metadata": {},
   "source": [
    "## on model 2"
   ]
  },
  {
   "cell_type": "code",
   "execution_count": 406,
   "metadata": {},
   "outputs": [
    {
     "data": {
      "text/plain": [
       "5.063847364866671"
      ]
     },
     "execution_count": 406,
     "metadata": {},
     "output_type": "execute_result"
    }
   ],
   "source": [
    "lin_rmse4 = np.sqrt(lin_mse4)\n",
    "lin_rmse4"
   ]
  },
  {
   "attachments": {},
   "cell_type": "markdown",
   "metadata": {},
   "source": [
    "Basicaly a repeat of what happened before in SGB regressor."
   ]
  },
  {
   "attachments": {},
   "cell_type": "markdown",
   "metadata": {},
   "source": [
    "# 5.conclusion"
   ]
  },
  {
   "attachments": {},
   "cell_type": "markdown",
   "metadata": {},
   "source": [
    "We have pretty similar results from SGD regressor and linear regressor and the values only hugely diffrentiated due to the sets used for training and testing not the models themselves."
   ]
  },
  {
   "attachments": {},
   "cell_type": "markdown",
   "metadata": {},
   "source": [
    "This show that not only a good model is need but also the data must be split in a good way. And when ouliers are removed then the data behaves in a better more predictable way."
   ]
  },
  {
   "attachments": {},
   "cell_type": "markdown",
   "metadata": {},
   "source": [
    "If i did this all over again then i would have mabye removed all the 0 values and 100 values as those in theory cannot be intruduced to the dataset as they are unique (only one country can have them). If you would add them then you would have to change the entire dataset."
   ]
  }
 ],
 "metadata": {
  "kernelspec": {
   "display_name": "base",
   "language": "python",
   "name": "python3"
  },
  "language_info": {
   "codemirror_mode": {
    "name": "ipython",
    "version": 3
   },
   "file_extension": ".py",
   "mimetype": "text/x-python",
   "name": "python",
   "nbconvert_exporter": "python",
   "pygments_lexer": "ipython3",
   "version": "3.9.12"
  },
  "orig_nbformat": 4
 },
 "nbformat": 4,
 "nbformat_minor": 2
}
